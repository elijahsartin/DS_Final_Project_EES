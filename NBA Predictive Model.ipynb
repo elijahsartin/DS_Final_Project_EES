{
 "cells": [
  {
   "cell_type": "code",
   "execution_count": 134,
   "id": "4ae4a321-f48b-4a4e-bea9-8794bcd362dd",
   "metadata": {},
   "outputs": [],
   "source": [
    "import mysql.connector\n",
    "import pandas as pd\n",
    "import numpy as np\n",
    "#import seaborn as sns\n",
    "#import requests\n",
    "#import json\n",
    "import datetime as dt\n",
    "#import time\n",
    "import matplotlib.pyplot as plt"
   ]
  },
  {
   "cell_type": "code",
   "execution_count": 135,
   "id": "b5140856-7b26-4d06-a9ab-e1f35f0e26fc",
   "metadata": {},
   "outputs": [],
   "source": [
    "# connect to mysql\n",
    "cnx = mysql.connector.connect(user='nba_user', password='letmein',\n",
    "                              host='127.0.0.1',\n",
    "                              database='nba_data')\n",
    "cursor = cnx.cursor()"
   ]
  },
  {
   "cell_type": "code",
   "execution_count": 136,
   "id": "5703c3df-6179-4d26-94ca-2d71832c4cea",
   "metadata": {},
   "outputs": [],
   "source": [
    "# call table from MySQL\n",
    "sql = \"SELECT * FROM nba;\"\n",
    "\n",
    "cursor.execute(sql)\n",
    "rows = cursor.fetchall();"
   ]
  },
  {
   "cell_type": "code",
   "execution_count": 137,
   "id": "107310c8-be7e-4f95-b062-4e1d60c88819",
   "metadata": {},
   "outputs": [],
   "source": [
    "column_names = ['game_time', 'game_date', 'arena', 'home_team', 'home_wins', \n",
    "                'home_losses', 'away_team', 'away_wins', 'away_losses', 'attendance']"
   ]
  },
  {
   "cell_type": "code",
   "execution_count": 138,
   "id": "b68cff29-7a08-4047-b430-c6dc03cb02c5",
   "metadata": {},
   "outputs": [],
   "source": [
    "# create dataframe\n",
    "features = pd.DataFrame(rows, columns=column_names)"
   ]
  },
  {
   "cell_type": "code",
   "execution_count": 139,
   "id": "1229b965-d915-413e-a155-a101044a7a4f",
   "metadata": {},
   "outputs": [],
   "source": [
    "features.to_csv('NBA_data.csv')"
   ]
  },
  {
   "cell_type": "code",
   "execution_count": 140,
   "id": "e4ee3450-bcd5-402a-aa8e-7a1c4d9f1332",
   "metadata": {},
   "outputs": [],
   "source": [
    "features.drop(columns='game_time', inplace=True)"
   ]
  },
  {
   "cell_type": "code",
   "execution_count": 141,
   "id": "a44a38b4-41e9-4efc-9a72-25f7b4d64d98",
   "metadata": {},
   "outputs": [
    {
     "data": {
      "text/html": [
       "<div>\n",
       "<style scoped>\n",
       "    .dataframe tbody tr th:only-of-type {\n",
       "        vertical-align: middle;\n",
       "    }\n",
       "\n",
       "    .dataframe tbody tr th {\n",
       "        vertical-align: top;\n",
       "    }\n",
       "\n",
       "    .dataframe thead th {\n",
       "        text-align: right;\n",
       "    }\n",
       "</style>\n",
       "<table border=\"1\" class=\"dataframe\">\n",
       "  <thead>\n",
       "    <tr style=\"text-align: right;\">\n",
       "      <th></th>\n",
       "      <th>game_date</th>\n",
       "      <th>arena</th>\n",
       "      <th>home_team</th>\n",
       "      <th>home_wins</th>\n",
       "      <th>home_losses</th>\n",
       "      <th>away_team</th>\n",
       "      <th>away_wins</th>\n",
       "      <th>away_losses</th>\n",
       "      <th>attendance</th>\n",
       "    </tr>\n",
       "  </thead>\n",
       "  <tbody>\n",
       "    <tr>\n",
       "      <th>0</th>\n",
       "      <td>2017-10-17</td>\n",
       "      <td>Quicken Loans Arena</td>\n",
       "      <td>Cleveland Cavaliers</td>\n",
       "      <td>1</td>\n",
       "      <td>0</td>\n",
       "      <td>Boston Celtics</td>\n",
       "      <td>0</td>\n",
       "      <td>1</td>\n",
       "      <td>20562</td>\n",
       "    </tr>\n",
       "    <tr>\n",
       "      <th>1</th>\n",
       "      <td>2017-10-17</td>\n",
       "      <td>Oracle Arena</td>\n",
       "      <td>Golden State Warriors</td>\n",
       "      <td>0</td>\n",
       "      <td>1</td>\n",
       "      <td>Houston Rockets</td>\n",
       "      <td>1</td>\n",
       "      <td>0</td>\n",
       "      <td>19596</td>\n",
       "    </tr>\n",
       "    <tr>\n",
       "      <th>2</th>\n",
       "      <td>2017-10-18</td>\n",
       "      <td>TD Garden</td>\n",
       "      <td>Boston Celtics</td>\n",
       "      <td>0</td>\n",
       "      <td>2</td>\n",
       "      <td>Milwaukee Bucks</td>\n",
       "      <td>1</td>\n",
       "      <td>0</td>\n",
       "      <td>18624</td>\n",
       "    </tr>\n",
       "    <tr>\n",
       "      <th>3</th>\n",
       "      <td>2017-10-18</td>\n",
       "      <td>American Airlines Center</td>\n",
       "      <td>Dallas Mavericks</td>\n",
       "      <td>0</td>\n",
       "      <td>1</td>\n",
       "      <td>Atlanta Hawks</td>\n",
       "      <td>1</td>\n",
       "      <td>0</td>\n",
       "      <td>19709</td>\n",
       "    </tr>\n",
       "    <tr>\n",
       "      <th>4</th>\n",
       "      <td>2017-10-18</td>\n",
       "      <td>Little Caesars Arena</td>\n",
       "      <td>Detroit Pistons</td>\n",
       "      <td>1</td>\n",
       "      <td>0</td>\n",
       "      <td>Charlotte Hornets</td>\n",
       "      <td>0</td>\n",
       "      <td>1</td>\n",
       "      <td>20491</td>\n",
       "    </tr>\n",
       "  </tbody>\n",
       "</table>\n",
       "</div>"
      ],
      "text/plain": [
       "    game_date                     arena              home_team  home_wins  \\\n",
       "0  2017-10-17       Quicken Loans Arena    Cleveland Cavaliers          1   \n",
       "1  2017-10-17              Oracle Arena  Golden State Warriors          0   \n",
       "2  2017-10-18                 TD Garden         Boston Celtics          0   \n",
       "3  2017-10-18  American Airlines Center       Dallas Mavericks          0   \n",
       "4  2017-10-18      Little Caesars Arena        Detroit Pistons          1   \n",
       "\n",
       "   home_losses          away_team  away_wins  away_losses  attendance  \n",
       "0            0     Boston Celtics          0            1       20562  \n",
       "1            1    Houston Rockets          1            0       19596  \n",
       "2            2    Milwaukee Bucks          1            0       18624  \n",
       "3            1      Atlanta Hawks          1            0       19709  \n",
       "4            0  Charlotte Hornets          0            1       20491  "
      ]
     },
     "execution_count": 141,
     "metadata": {},
     "output_type": "execute_result"
    }
   ],
   "source": [
    "features.head(5)"
   ]
  },
  {
   "cell_type": "code",
   "execution_count": 142,
   "id": "ced65600-c533-43bd-ab1e-5b131b4826b3",
   "metadata": {},
   "outputs": [],
   "source": [
    "# limit to categorical data using df.select_dtypes()\n",
    "#X = features.select_dtypes(include=[object])\n",
    "#X.head(10)"
   ]
  },
  {
   "cell_type": "code",
   "execution_count": 143,
   "id": "6612edbb-d13b-42b3-9abf-ba6e61789e3a",
   "metadata": {},
   "outputs": [],
   "source": [
    "features['game_date'] = pd.to_datetime(features['game_date'])"
   ]
  },
  {
   "cell_type": "code",
   "execution_count": 144,
   "id": "5615463b-b5d2-49bd-aa39-820eae960d4a",
   "metadata": {},
   "outputs": [],
   "source": [
    "#features['weekday'] = features['game_date'].dt.strftime('%A')"
   ]
  },
  {
   "cell_type": "code",
   "execution_count": 145,
   "id": "c143d380-df64-4735-a596-8ffe28a78879",
   "metadata": {},
   "outputs": [],
   "source": [
    "#features['game_date'] = features['game_date'].map(dt.datetime.toordinal)"
   ]
  },
  {
   "cell_type": "code",
   "execution_count": 146,
   "id": "c8215436-3a9e-49a3-a883-a16934cee85c",
   "metadata": {},
   "outputs": [
    {
     "data": {
      "text/plain": [
       "dtype('<M8[ns]')"
      ]
     },
     "execution_count": 146,
     "metadata": {},
     "output_type": "execute_result"
    }
   ],
   "source": [
    "features.game_date.dtype"
   ]
  },
  {
   "cell_type": "code",
   "execution_count": 147,
   "id": "b0347b1c-2994-4203-86f7-7982dc2dbeb4",
   "metadata": {},
   "outputs": [],
   "source": [
    "# Create new columns for day, month, year, and day of the week\n",
    "features['day'] = features['game_date'].dt.day\n",
    "features['month'] = features['game_date'].dt.month\n",
    "features['year'] = features['game_date'].dt.year\n",
    "features['weekday'] = features['game_date'].dt.strftime('%A')\n",
    "features.drop(columns='game_date', inplace=True)"
   ]
  },
  {
   "cell_type": "code",
   "execution_count": 148,
   "id": "6cefd839-3f4b-4732-a2dc-14d703b104ea",
   "metadata": {},
   "outputs": [
    {
     "data": {
      "text/html": [
       "<div>\n",
       "<style scoped>\n",
       "    .dataframe tbody tr th:only-of-type {\n",
       "        vertical-align: middle;\n",
       "    }\n",
       "\n",
       "    .dataframe tbody tr th {\n",
       "        vertical-align: top;\n",
       "    }\n",
       "\n",
       "    .dataframe thead th {\n",
       "        text-align: right;\n",
       "    }\n",
       "</style>\n",
       "<table border=\"1\" class=\"dataframe\">\n",
       "  <thead>\n",
       "    <tr style=\"text-align: right;\">\n",
       "      <th></th>\n",
       "      <th>home_wins</th>\n",
       "      <th>home_losses</th>\n",
       "      <th>away_wins</th>\n",
       "      <th>away_losses</th>\n",
       "      <th>attendance</th>\n",
       "      <th>day</th>\n",
       "      <th>month</th>\n",
       "      <th>year</th>\n",
       "      <th>arena_AT&amp;T Center</th>\n",
       "      <th>arena_AccorHotels Arena</th>\n",
       "      <th>...</th>\n",
       "      <th>away_team_Toronto Raptors</th>\n",
       "      <th>away_team_Utah Jazz</th>\n",
       "      <th>away_team_Washington Wizards</th>\n",
       "      <th>weekday_Friday</th>\n",
       "      <th>weekday_Monday</th>\n",
       "      <th>weekday_Saturday</th>\n",
       "      <th>weekday_Sunday</th>\n",
       "      <th>weekday_Thursday</th>\n",
       "      <th>weekday_Tuesday</th>\n",
       "      <th>weekday_Wednesday</th>\n",
       "    </tr>\n",
       "  </thead>\n",
       "  <tbody>\n",
       "    <tr>\n",
       "      <th>0</th>\n",
       "      <td>1</td>\n",
       "      <td>0</td>\n",
       "      <td>0</td>\n",
       "      <td>1</td>\n",
       "      <td>20562</td>\n",
       "      <td>17</td>\n",
       "      <td>10</td>\n",
       "      <td>2017</td>\n",
       "      <td>0</td>\n",
       "      <td>0</td>\n",
       "      <td>...</td>\n",
       "      <td>0</td>\n",
       "      <td>0</td>\n",
       "      <td>0</td>\n",
       "      <td>0</td>\n",
       "      <td>0</td>\n",
       "      <td>0</td>\n",
       "      <td>0</td>\n",
       "      <td>0</td>\n",
       "      <td>1</td>\n",
       "      <td>0</td>\n",
       "    </tr>\n",
       "    <tr>\n",
       "      <th>1</th>\n",
       "      <td>0</td>\n",
       "      <td>1</td>\n",
       "      <td>1</td>\n",
       "      <td>0</td>\n",
       "      <td>19596</td>\n",
       "      <td>17</td>\n",
       "      <td>10</td>\n",
       "      <td>2017</td>\n",
       "      <td>0</td>\n",
       "      <td>0</td>\n",
       "      <td>...</td>\n",
       "      <td>0</td>\n",
       "      <td>0</td>\n",
       "      <td>0</td>\n",
       "      <td>0</td>\n",
       "      <td>0</td>\n",
       "      <td>0</td>\n",
       "      <td>0</td>\n",
       "      <td>0</td>\n",
       "      <td>1</td>\n",
       "      <td>0</td>\n",
       "    </tr>\n",
       "    <tr>\n",
       "      <th>2</th>\n",
       "      <td>0</td>\n",
       "      <td>2</td>\n",
       "      <td>1</td>\n",
       "      <td>0</td>\n",
       "      <td>18624</td>\n",
       "      <td>18</td>\n",
       "      <td>10</td>\n",
       "      <td>2017</td>\n",
       "      <td>0</td>\n",
       "      <td>0</td>\n",
       "      <td>...</td>\n",
       "      <td>0</td>\n",
       "      <td>0</td>\n",
       "      <td>0</td>\n",
       "      <td>0</td>\n",
       "      <td>0</td>\n",
       "      <td>0</td>\n",
       "      <td>0</td>\n",
       "      <td>0</td>\n",
       "      <td>0</td>\n",
       "      <td>1</td>\n",
       "    </tr>\n",
       "    <tr>\n",
       "      <th>3</th>\n",
       "      <td>0</td>\n",
       "      <td>1</td>\n",
       "      <td>1</td>\n",
       "      <td>0</td>\n",
       "      <td>19709</td>\n",
       "      <td>18</td>\n",
       "      <td>10</td>\n",
       "      <td>2017</td>\n",
       "      <td>0</td>\n",
       "      <td>0</td>\n",
       "      <td>...</td>\n",
       "      <td>0</td>\n",
       "      <td>0</td>\n",
       "      <td>0</td>\n",
       "      <td>0</td>\n",
       "      <td>0</td>\n",
       "      <td>0</td>\n",
       "      <td>0</td>\n",
       "      <td>0</td>\n",
       "      <td>0</td>\n",
       "      <td>1</td>\n",
       "    </tr>\n",
       "    <tr>\n",
       "      <th>4</th>\n",
       "      <td>1</td>\n",
       "      <td>0</td>\n",
       "      <td>0</td>\n",
       "      <td>1</td>\n",
       "      <td>20491</td>\n",
       "      <td>18</td>\n",
       "      <td>10</td>\n",
       "      <td>2017</td>\n",
       "      <td>0</td>\n",
       "      <td>0</td>\n",
       "      <td>...</td>\n",
       "      <td>0</td>\n",
       "      <td>0</td>\n",
       "      <td>0</td>\n",
       "      <td>0</td>\n",
       "      <td>0</td>\n",
       "      <td>0</td>\n",
       "      <td>0</td>\n",
       "      <td>0</td>\n",
       "      <td>0</td>\n",
       "      <td>1</td>\n",
       "    </tr>\n",
       "  </tbody>\n",
       "</table>\n",
       "<p>5 rows × 121 columns</p>\n",
       "</div>"
      ],
      "text/plain": [
       "   home_wins  home_losses  away_wins  away_losses  attendance  day  month  \\\n",
       "0          1            0          0            1       20562   17     10   \n",
       "1          0            1          1            0       19596   17     10   \n",
       "2          0            2          1            0       18624   18     10   \n",
       "3          0            1          1            0       19709   18     10   \n",
       "4          1            0          0            1       20491   18     10   \n",
       "\n",
       "   year  arena_AT&T Center  arena_AccorHotels Arena  ...  \\\n",
       "0  2017                  0                        0  ...   \n",
       "1  2017                  0                        0  ...   \n",
       "2  2017                  0                        0  ...   \n",
       "3  2017                  0                        0  ...   \n",
       "4  2017                  0                        0  ...   \n",
       "\n",
       "   away_team_Toronto Raptors  away_team_Utah Jazz  \\\n",
       "0                          0                    0   \n",
       "1                          0                    0   \n",
       "2                          0                    0   \n",
       "3                          0                    0   \n",
       "4                          0                    0   \n",
       "\n",
       "   away_team_Washington Wizards  weekday_Friday  weekday_Monday  \\\n",
       "0                             0               0               0   \n",
       "1                             0               0               0   \n",
       "2                             0               0               0   \n",
       "3                             0               0               0   \n",
       "4                             0               0               0   \n",
       "\n",
       "   weekday_Saturday  weekday_Sunday  weekday_Thursday  weekday_Tuesday  \\\n",
       "0                 0               0                 0                1   \n",
       "1                 0               0                 0                1   \n",
       "2                 0               0                 0                0   \n",
       "3                 0               0                 0                0   \n",
       "4                 0               0                 0                0   \n",
       "\n",
       "   weekday_Wednesday  \n",
       "0                  0  \n",
       "1                  0  \n",
       "2                  1  \n",
       "3                  1  \n",
       "4                  1  \n",
       "\n",
       "[5 rows x 121 columns]"
      ]
     },
     "execution_count": 148,
     "metadata": {},
     "output_type": "execute_result"
    }
   ],
   "source": [
    "# One-hot encode the data using pandas get_dummies\n",
    "features = pd.get_dummies(features)\n",
    "# Display the first 5 rows\n",
    "features.head(5)"
   ]
  },
  {
   "cell_type": "code",
   "execution_count": 150,
   "id": "7c82749f-ceb5-4f3f-8d2a-870a9692236a",
   "metadata": {},
   "outputs": [],
   "source": [
    "# Labels are the values we want to predict\n",
    "labels = np.array(features['attendance'])\n",
    "\n",
    "# Remove the labels from the features\n",
    "# axis 1 refers to the columns\n",
    "features = features.drop('attendance', axis = 1)\n",
    "feature = features\n",
    "\n",
    "# Saving feature names for later use\n",
    "feature_list = list(features.columns)\n",
    "\n",
    "# Convert to numpy array\n",
    "features = np.array(features)"
   ]
  },
  {
   "cell_type": "code",
   "execution_count": 153,
   "id": "df73fe18-b0e7-4c1c-a3d4-8dacb6f3958c",
   "metadata": {},
   "outputs": [
    {
     "name": "stdout",
     "output_type": "stream",
     "text": [
      "      home_wins  home_losses  away_wins  away_losses  day  month  year  \\\n",
      "3319         16           37         18           36   12      2  2020   \n",
      "\n",
      "      arena_AT&T Center  arena_AccorHotels Arena  arena_Air Canada Centre  \\\n",
      "3319                  0                        0                        0   \n",
      "\n",
      "      ...  away_team_Toronto Raptors  away_team_Utah Jazz  \\\n",
      "3319  ...                          0                    0   \n",
      "\n",
      "      away_team_Washington Wizards  weekday_Friday  weekday_Monday  \\\n",
      "3319                             0               0               0   \n",
      "\n",
      "      weekday_Saturday  weekday_Sunday  weekday_Thursday  weekday_Tuesday  \\\n",
      "3319                 0               0                 0                0   \n",
      "\n",
      "      weekday_Wednesday  \n",
      "3319                  1  \n",
      "\n",
      "[1 rows x 120 columns]\n"
     ]
    }
   ],
   "source": [
    "#Get a random sample for prediction later\n",
    "random_row = feature.sample(n=1)\n",
    "\n",
    "# Print the sample\n",
    "print(random_row)"
   ]
  },
  {
   "cell_type": "code",
   "execution_count": 121,
   "id": "b0c3c205-181b-4c11-b7a0-bd4d33e90ff0",
   "metadata": {},
   "outputs": [],
   "source": [
    "# Using Skicit-learn to split data into training and testing sets\n",
    "from sklearn.model_selection import train_test_split\n",
    "# Split the data into training and testing sets\n",
    "train_features, test_features, train_labels, test_labels = train_test_split(features, labels, test_size = 0.25, random_state = 69)"
   ]
  },
  {
   "cell_type": "code",
   "execution_count": 109,
   "id": "496feddd-4e59-490c-8034-ec8c04e9c2a6",
   "metadata": {},
   "outputs": [
    {
     "name": "stdout",
     "output_type": "stream",
     "text": [
      "Training Features Shape: (4386, 120)\n",
      "Training Labels Shape: (4386,)\n",
      "Testing Features Shape: (1463, 120)\n",
      "Testing Labels Shape: (1463,)\n"
     ]
    }
   ],
   "source": [
    "print('Training Features Shape:', train_features.shape)\n",
    "print('Training Labels Shape:', train_labels.shape)\n",
    "print('Testing Features Shape:', test_features.shape)\n",
    "print('Testing Labels Shape:', test_labels.shape)"
   ]
  },
  {
   "cell_type": "code",
   "execution_count": 110,
   "id": "7624bc98-9d20-4891-a0e5-276d8b36868d",
   "metadata": {},
   "outputs": [],
   "source": [
    "# Import the model we are using\n",
    "from sklearn.ensemble import RandomForestRegressor\n",
    "\n",
    "# Import statistic calculations\n",
    "from sklearn.metrics import mean_squared_error, r2_score\n",
    "\n",
    "# Instantiate model with 1000 decision trees\n",
    "rf = RandomForestRegressor(n_estimators = 1000, random_state = 69)\n",
    "\n",
    "# Train the model on training data\n",
    "rf.fit(train_features, train_labels);"
   ]
  },
  {
   "cell_type": "code",
   "execution_count": 111,
   "id": "3a8bc626-e22f-47c1-93a0-519e8fae8e02",
   "metadata": {},
   "outputs": [
    {
     "name": "stdout",
     "output_type": "stream",
     "text": [
      "Mean Absolute Error: 808.04\n"
     ]
    }
   ],
   "source": [
    "# Use the forest's predict method on the test data\n",
    "predictions = rf.predict(test_features)\n",
    "\n",
    "# Calculate the absolute errors\n",
    "errors = abs(predictions - test_labels)\n",
    "\n",
    "# Print out the mean absolute error (mae)\n",
    "print('Mean Absolute Error:', round(np.mean(errors), 2))"
   ]
  },
  {
   "cell_type": "code",
   "execution_count": 28,
   "id": "fc8c726b-1c1b-48cf-aa9c-fb8008b1f2cc",
   "metadata": {},
   "outputs": [
    {
     "name": "stdout",
     "output_type": "stream",
     "text": [
      "MAPE: 4.98 %.\n"
     ]
    }
   ],
   "source": [
    "from sklearn.metrics import mean_absolute_percentage_error\n",
    "\n",
    "#Calculate MAPE\n",
    "mape = mean_absolute_percentage_error(test_labels, predictions)\n",
    "mape = 100 * mape\n",
    "print('MAPE:',round(mape,2),'%.')"
   ]
  },
  {
   "cell_type": "code",
   "execution_count": 29,
   "id": "2e1f6721-4133-4ffd-81fb-105f8b6f95f3",
   "metadata": {},
   "outputs": [
    {
     "name": "stdout",
     "output_type": "stream",
     "text": [
      "Accuracy: 95.02 %.\n"
     ]
    }
   ],
   "source": [
    "# Calculate mean absolute percentage error (MAPE)\n",
    "# mape = 100 * (errors / test_labels)\n",
    "\n",
    "# Calculate and display accuracy\n",
    "accuracy = 100 - mape\n",
    "print('Accuracy:', round(accuracy, 2), '%.')"
   ]
  },
  {
   "cell_type": "code",
   "execution_count": 30,
   "id": "07449b8f-003b-450f-b141-f572dc393678",
   "metadata": {},
   "outputs": [
    {
     "name": "stdout",
     "output_type": "stream",
     "text": [
      "Mean Squared Error: 1458290.6152\n",
      "r2: 0.6611\n"
     ]
    }
   ],
   "source": [
    "# Use the regression's predict method on the test data\n",
    "y_pred = rf.predict(test_features)\n",
    "msq = mean_squared_error(test_labels, predictions)\n",
    "r2 = r2_score(test_labels, predictions)\n",
    "print(\"Mean Squared Error:\", round(msq,4))\n",
    "print(\"r2:\", round(r2,4))"
   ]
  },
  {
   "cell_type": "code",
   "execution_count": 154,
   "id": "0c2f1afa-5d05-4435-91bc-c5e019106d66",
   "metadata": {},
   "outputs": [
    {
     "name": "stdout",
     "output_type": "stream",
     "text": [
      "[16948.01]\n"
     ]
    },
    {
     "name": "stderr",
     "output_type": "stream",
     "text": [
      "/Users/elijah/opt/anaconda3/lib/python3.8/site-packages/sklearn/base.py:443: UserWarning: X has feature names, but RandomForestRegressor was fitted without feature names\n",
      "  warnings.warn(\n"
     ]
    }
   ],
   "source": [
    "# Run an example through the random forest\n",
    "prediction = rf.predict(random_row)\n",
    "print(prediction)"
   ]
  },
  {
   "cell_type": "code",
   "execution_count": 209,
   "id": "f6f98642-2ba6-4a05-8dbd-70b645e1c73e",
   "metadata": {},
   "outputs": [],
   "source": [
    "# Get numerical feature importances\n",
    "importances = list(rf.feature_importances_)\n",
    "\n",
    "# List of tuples with variable and importance\n",
    "feature_importances = [(feature, round(importance, 2)) for feature, importance in zip(feature_list, importances)]\n",
    "\n",
    "# Sort the feature importances by most important first\n",
    "feature_importances = sorted(feature_importances, key = lambda x: x[1], reverse = True)\n",
    "\n",
    "# Print out the feature and importances \n",
    "# [print('Variable: {:20} Importance: {}'.format(*pair)) for pair in feature_importances];"
   ]
  },
  {
   "cell_type": "code",
   "execution_count": 210,
   "id": "5c94fa2b-c9dd-43c5-9ceb-3233f44b3d49",
   "metadata": {},
   "outputs": [],
   "source": [
    "#conda install pydot-ng"
   ]
  },
  {
   "cell_type": "code",
   "execution_count": 211,
   "id": "4b45398c-f980-405b-9ec7-1b1d4c2696ea",
   "metadata": {},
   "outputs": [],
   "source": [
    "#conda install graphviz"
   ]
  },
  {
   "cell_type": "code",
   "execution_count": null,
   "id": "ba4731a8-92cd-4d8a-9650-cbd229ac21a0",
   "metadata": {},
   "outputs": [],
   "source": [
    "# Import tools needed for visualization\n",
    "from sklearn.tree import export_graphviz\n",
    "import pydot\n",
    "\n",
    "# Pull out one tree from the forest\n",
    "tree = rf.estimators_[5]\n",
    "\n",
    "# Export the image to a dot file\n",
    "export_graphviz(tree, out_file = 'tree.dot', feature_names = feature_list, rounded = True, precision = 1)\n",
    "\n",
    "# Use dot file to create a graph\n",
    "(graph, ) = pydot.graph_from_dot_file('tree.dot')\n",
    "\n",
    "# Write graph to a png file\n",
    "# graph.write_png('tree.png')"
   ]
  },
  {
   "cell_type": "code",
   "execution_count": null,
   "id": "2d76d1fc-e952-417a-9e5d-ab6429f5b392",
   "metadata": {},
   "outputs": [],
   "source": [
    "# Limit depth of tree to 3 levels\n",
    "rf_small = RandomForestRegressor(n_estimators=10, max_depth = 3)\n",
    "rf_small.fit(train_features, train_labels)\n",
    "\n",
    "# Extract the small tree\n",
    "tree_small = rf_small.estimators_[5]\n",
    "\n",
    "# Save the tree as a png image\n",
    "export_graphviz(tree_small, out_file = 'small_tree.dot', feature_names = feature_list, rounded = True, precision = 1)\n",
    "(graph, ) = pydot.graph_from_dot_file('small_tree.dot')\n",
    "#graph.write_png('small_tree.png');"
   ]
  },
  {
   "cell_type": "code",
   "execution_count": null,
   "id": "3e67f99f-25c0-4661-9a1a-c245c5619059",
   "metadata": {},
   "outputs": [],
   "source": [
    "# Get numerical feature importances\n",
    "importances = list(rf.feature_importances_)\n",
    "\n",
    "# List of tuples with variable and importance\n",
    "feature_importances = [(feature, round(importance, 2)) for feature, importance in zip(feature_list, importances)]\n",
    "\n",
    "# Sort the feature importances by most important first\n",
    "feature_importances = sorted(feature_importances, key = lambda x: x[1], reverse = True)\n",
    "\n",
    "# Print out the feature and importances \n",
    "# [print('Variable: {:20} Importance: {}'.format(*pair)) for pair in feature_importances];"
   ]
  },
  {
   "cell_type": "raw",
   "id": "d1a26fed-4558-4e6f-9365-31d70eaff715",
   "metadata": {},
   "source": [
    "# Use datetime for creating date objects for plotting\n",
    "import datetime\n",
    "# Dates of training values\n",
    "months = features[:, feature_list.index('month')]\n",
    "days = features[:, feature_list.index('day')]\n",
    "years = features[:, feature_list.index('year')]\n",
    "# List and then convert to datetime object\n",
    "dates = [str(int(year)) + '-' + str(int(month)) + '-' + str(int(day)) for year, month, day in zip(years, months, days)]\n",
    "dates = [datetime.datetime.strptime(date, '%Y-%m-%d') for date in dates]\n",
    "# Dataframe with true values and dates\n",
    "true_data = pd.DataFrame(data = {'date': dates, 'actual': labels})\n",
    "# Dates of predictions\n",
    "months = test_features[:, feature_list.index('month')]\n",
    "days = test_features[:, feature_list.index('day')]\n",
    "years = test_features[:, feature_list.index('year')]\n",
    "# Column of dates\n",
    "test_dates = [str(int(year)) + '-' + str(int(month)) + '-' + str(int(day)) for year, month, day in zip(years, months, days)]\n",
    "# Convert to datetime objects\n",
    "test_dates = [datetime.datetime.strptime(date, '%Y-%m-%d') for date in test_dates]\n",
    "# Dataframe with predictions and dates\n",
    "predictions_data = pd.DataFrame(data = {'date': test_dates, 'prediction': predictions})\n",
    "# Plot the actual values\n",
    "plt.plot(true_data['date'], true_data['actual'], 'b-', label = 'actual')\n",
    "# Plot the predicted values\n",
    "plt.plot(predictions_data['date'], predictions_data['prediction'], 'ro', label = 'prediction')\n",
    "plt.xticks(rotation = 'vertical'); \n",
    "plt.legend()\n",
    "# Graph labels\n",
    "plt.xlabel('Date'); plt.ylabel('Attendance'); plt.title('Actual and Predicted Values');"
   ]
  },
  {
   "cell_type": "code",
   "execution_count": 127,
   "id": "d9e7af0c-72f2-4a34-a036-14144ac7c29f",
   "metadata": {},
   "outputs": [],
   "source": [
    "#import packages for linear regression\n",
    "from sklearn.linear_model import LinearRegression"
   ]
  },
  {
   "cell_type": "code",
   "execution_count": 128,
   "id": "a12b65f8-b54a-44cc-977c-486c477d51c4",
   "metadata": {},
   "outputs": [
    {
     "data": {
      "text/plain": [
       "LinearRegression()"
      ]
     },
     "execution_count": 128,
     "metadata": {},
     "output_type": "execute_result"
    }
   ],
   "source": [
    "# Create a linear regression model\n",
    "model = LinearRegression()\n",
    "\n",
    "# Train the model using the training data\n",
    "model.fit(train_features, train_labels)"
   ]
  },
  {
   "cell_type": "code",
   "execution_count": 129,
   "id": "4289828f-7a5e-4895-8188-7e66f6f56784",
   "metadata": {},
   "outputs": [
    {
     "name": "stdout",
     "output_type": "stream",
     "text": [
      "Mean Squared Error: 1718082.8758\n",
      "r2: 0.6008\n"
     ]
    }
   ],
   "source": [
    "# Use the regression's predict method on the test data\n",
    "y_pred = model.predict(test_features)\n",
    "msq = mean_squared_error(test_labels, y_pred)\n",
    "r2 = r2_score(test_labels, y_pred)\n",
    "print(\"Mean Squared Error:\", round(msq,4))\n",
    "print(\"r2:\", round(r2,4))"
   ]
  },
  {
   "cell_type": "code",
   "execution_count": 130,
   "id": "4693103b-075b-4714-a963-19fd9f7418e4",
   "metadata": {},
   "outputs": [
    {
     "name": "stdout",
     "output_type": "stream",
     "text": [
      "Mean Absolute Error: 968.32\n"
     ]
    }
   ],
   "source": [
    "# Calculate the absolute errors\n",
    "errors_reg = abs(y_pred - test_labels)\n",
    "\n",
    "# Print out the mean absolute error (mae)\n",
    "print('Mean Absolute Error:', round(np.mean(errors_reg), 2))"
   ]
  },
  {
   "cell_type": "code",
   "execution_count": 131,
   "id": "0ae72214-3006-44f9-b834-3d5ee62426ac",
   "metadata": {},
   "outputs": [
    {
     "name": "stdout",
     "output_type": "stream",
     "text": [
      "Mean Absolute Error: 968.32\n"
     ]
    }
   ],
   "source": [
    "from sklearn.metrics import mean_absolute_error\n",
    "\n",
    "# Calculate MAE\n",
    "mae = mean_absolute_error(test_labels, y_pred)\n",
    "print('Mean Absolute Error:', round(mae, 2))"
   ]
  },
  {
   "cell_type": "code",
   "execution_count": 132,
   "id": "d95f0503-0361-4194-90bc-7fedcbe2a74a",
   "metadata": {},
   "outputs": [
    {
     "name": "stdout",
     "output_type": "stream",
     "text": [
      "MAPE: 5.93 %.\n"
     ]
    }
   ],
   "source": [
    "from sklearn.metrics import mean_absolute_percentage_error\n",
    "\n",
    "#Calculate MAPE\n",
    "mape_reg = mean_absolute_percentage_error(test_labels, y_pred)\n",
    "mape_reg = 100 * mape_reg\n",
    "print('MAPE:',round(mape_reg,2),'%.')"
   ]
  },
  {
   "cell_type": "code",
   "execution_count": 232,
   "id": "252e7d71-7a49-49e6-b9ad-7e5e011120e5",
   "metadata": {},
   "outputs": [
    {
     "name": "stdout",
     "output_type": "stream",
     "text": [
      "Accuracy: 94.07 %.\n"
     ]
    }
   ],
   "source": [
    "#Calculate Accuracy\n",
    "acc_reg = 100 - mape_reg\n",
    "print('Accuracy:', round(acc_reg, 2), '%.')"
   ]
  },
  {
   "cell_type": "code",
   "execution_count": 155,
   "id": "01448e49-fc95-4218-91ba-c78b7e53371a",
   "metadata": {},
   "outputs": [
    {
     "name": "stdout",
     "output_type": "stream",
     "text": [
      "[14970.37498427]\n"
     ]
    },
    {
     "name": "stderr",
     "output_type": "stream",
     "text": [
      "/Users/elijah/opt/anaconda3/lib/python3.8/site-packages/sklearn/base.py:443: UserWarning: X has feature names, but LinearRegression was fitted without feature names\n",
      "  warnings.warn(\n"
     ]
    }
   ],
   "source": [
    "# Run an example through the linear regression\n",
    "prediction = model.predict(random_row)\n",
    "print(prediction)"
   ]
  },
  {
   "cell_type": "code",
   "execution_count": null,
   "id": "83b67e2f-6810-47fa-94b5-118b3312e711",
   "metadata": {},
   "outputs": [],
   "source": []
  }
 ],
 "metadata": {
  "kernelspec": {
   "display_name": "Python 3 (ipykernel)",
   "language": "python",
   "name": "python3"
  },
  "language_info": {
   "codemirror_mode": {
    "name": "ipython",
    "version": 3
   },
   "file_extension": ".py",
   "mimetype": "text/x-python",
   "name": "python",
   "nbconvert_exporter": "python",
   "pygments_lexer": "ipython3",
   "version": "3.8.8"
  }
 },
 "nbformat": 4,
 "nbformat_minor": 5
}
